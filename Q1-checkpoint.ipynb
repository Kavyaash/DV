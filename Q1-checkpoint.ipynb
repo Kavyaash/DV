{
 "cells": [
  {
   "cell_type": "code",
   "execution_count": 5,
   "id": "4c3d58a9",
   "metadata": {},
   "outputs": [
    {
     "name": "stdout",
     "output_type": "stream",
     "text": [
      "Column names in the dataset:\n",
      "Index(['Date', ' Close/Last', ' Volume', ' Open', ' High', ' Low'], dtype='object')\n"
     ]
    }
   ],
   "source": [
    "# Import necessary libraries\n",
    "import numpy as np\n",
    "import pandas as pd\n",
    "\n",
    "# Load the Apple stock data into a Pandas DataFrame\n",
    "data = pd.read_csv('AAPL_stock_data.csv')\n",
    "\n",
    "# Print the column names to verify the available columns\n",
    "print(\"Column names in the dataset:\")\n",
    "print(data.columns)\n",
    "\n"
   ]
  },
  {
   "cell_type": "code",
   "execution_count": 7,
   "id": "989e01b9",
   "metadata": {},
   "outputs": [
    {
     "name": "stdout",
     "output_type": "stream",
     "text": [
      "\n",
      "Mean: 114.76952227958698\n",
      "Median: 101.09\n",
      "Mode: 97.34\n",
      "Standard Deviation: 60.65035824572462\n"
     ]
    }
   ],
   "source": [
    "#Close/Last column for the stock prices\n",
    "prices = data[' Close/Last']  \n",
    "\n",
    "# Convert the prices to numeric by removing the dollar sign and converting to float\n",
    "prices = prices.str.replace('$', '', regex=False).astype(float)\n",
    "\n",
    "# Drop NaN values \n",
    "prices_cleaned = prices.dropna()\n",
    "\n",
    "# Calculating Mean\n",
    "mean_value = np.mean(prices_cleaned)\n",
    "print(f\"\\nMean: {mean_value}\")\n",
    "\n",
    "# Calculating Median\n",
    "median_value = np.median(prices_cleaned)\n",
    "print(f\"Median: {median_value}\")\n",
    "\n",
    "# Calculating Mode \n",
    "mode_value = prices_cleaned.mode()[0]  # mode() returns a Series, we take the first mode\n",
    "print(f\"Mode: {mode_value}\")\n",
    "\n",
    "# Calculating Standard Deviation\n",
    "std_value = np.std(prices_cleaned)\n",
    "print(f\"Standard Deviation: {std_value}\")"
   ]
  },
  {
   "cell_type": "code",
   "execution_count": null,
   "id": "870fcb26",
   "metadata": {},
   "outputs": [],
   "source": []
  }
 ],
 "metadata": {
  "kernelspec": {
   "display_name": "Python 3 (ipykernel)",
   "language": "python",
   "name": "python3"
  },
  "language_info": {
   "codemirror_mode": {
    "name": "ipython",
    "version": 3
   },
   "file_extension": ".py",
   "mimetype": "text/x-python",
   "name": "python",
   "nbconvert_exporter": "python",
   "pygments_lexer": "ipython3",
   "version": "3.11.4"
  }
 },
 "nbformat": 4,
 "nbformat_minor": 5
}
